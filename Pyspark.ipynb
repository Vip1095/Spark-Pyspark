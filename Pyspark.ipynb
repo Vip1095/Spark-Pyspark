{
 "cells": [
  {
   "cell_type": "code",
   "execution_count": 1,
   "metadata": {},
   "outputs": [],
   "source": [
    "from pyspark.sql import SparkSession\n",
    "\n"
   ]
  },
  {
   "cell_type": "code",
   "execution_count": 2,
   "metadata": {},
   "outputs": [],
   "source": [
    "spark = SparkSession \\\n",
    "    .builder \\\n",
    "    .appName(\"Pyspark Example\") \\\n",
    "    .config(\"spark.some.config.option\", \"some-value\") \\\n",
    "    .getOrCreate()\n",
    "\n",
    "df = spark.read.csv(\"/home/user/Downloads/Copy of Sales_Data_20.csv\",header=True,sep=\",\");"
   ]
  },
  {
   "cell_type": "code",
   "execution_count": 4,
   "metadata": {},
   "outputs": [
    {
     "name": "stdout",
     "output_type": "stream",
     "text": [
      "+------+-------+----------+----------------+\n",
      "|Region|Product|      Date|           Sales|\n",
      "+------+-------+----------+----------------+\n",
      "|  West| Prod J|2016-03-30|118561.905986659|\n",
      "| South| Prod E|2010-09-15|17462.1270123118|\n",
      "| South| Prod L|2013-04-17|64539.1913768631|\n",
      "|  East| Prod A|2015-10-28|110216.292814462|\n",
      "| North| Prod F|2010-10-31|19429.7297719477|\n",
      "| South| Prod R|2014-12-26|95773.8765766756|\n",
      "| North| Prod L|2011-07-14|32629.5732187547|\n",
      "| North| Prod M|2012-04-10|46096.3110776484|\n",
      "|  West| Prod R|2011-03-04|25609.5158749401|\n",
      "| South| Prod K|2010-11-10|20279.0905757283|\n",
      "| North| Prod T|2011-05-06|28782.3930960173|\n",
      "|  East| Prod O|2015-07-25|105261.745345341|\n",
      "|  East| Prod H|2015-07-16|104523.512520236|\n",
      "| North| Prod F|2010-07-18|14272.2337786702|\n",
      "|  West| Prod C|2016-02-17|116520.939910122|\n",
      "| North| Prod P|2011-05-27|29725.7553004001|\n",
      "| North| Prod Q|2015-05-20|102893.543818982|\n",
      "| South| Prod H|2014-02-25|80300.7473467712|\n",
      "| North| Prod A|2015-02-28|98875.5174810155|\n",
      "| North| Prod H|2016-03-20|117949.417977742|\n",
      "+------+-------+----------+----------------+\n",
      "only showing top 20 rows\n",
      "\n"
     ]
    }
   ],
   "source": [
    "df.show()"
   ]
  },
  {
   "cell_type": "code",
   "execution_count": 5,
   "metadata": {},
   "outputs": [
    {
     "name": "stdout",
     "output_type": "stream",
     "text": [
      "root\n",
      " |-- Region: string (nullable = true)\n",
      " |-- Product: string (nullable = true)\n",
      " |-- Date: string (nullable = true)\n",
      " |-- Sales: string (nullable = true)\n",
      "\n"
     ]
    }
   ],
   "source": [
    "df.printSchema()"
   ]
  },
  {
   "cell_type": "code",
   "execution_count": 6,
   "metadata": {},
   "outputs": [
    {
     "data": {
      "text/plain": [
       "2500000"
      ]
     },
     "execution_count": 6,
     "metadata": {},
     "output_type": "execute_result"
    }
   ],
   "source": [
    "df.count()"
   ]
  },
  {
   "cell_type": "code",
   "execution_count": 8,
   "metadata": {},
   "outputs": [
    {
     "name": "stdout",
     "output_type": "stream",
     "text": [
      "+-------+-------+-------+----------+-----------------+\n",
      "|summary| Region|Product|      Date|            Sales|\n",
      "+-------+-------+-------+----------+-----------------+\n",
      "|  count|2500000|2500000|   2500000|          2500000|\n",
      "|   mean|   null|   null|      null|63392.09531199504|\n",
      "| stddev|   null|   null|      null|34030.06109965621|\n",
      "|    min|   East| Prod A|2010-01-01| 10000.1976033941|\n",
      "|    max|   West| Prod T|2016-06-15|  99999.920056939|\n",
      "+-------+-------+-------+----------+-----------------+\n",
      "\n"
     ]
    }
   ],
   "source": [
    "df.describe().show()"
   ]
  },
  {
   "cell_type": "code",
   "execution_count": 10,
   "metadata": {},
   "outputs": [
    {
     "name": "stdout",
     "output_type": "stream",
     "text": [
      "+------+----------+\n",
      "|Region|      Date|\n",
      "+------+----------+\n",
      "|  West|2016-03-30|\n",
      "| South|2010-09-15|\n",
      "| South|2013-04-17|\n",
      "|  East|2015-10-28|\n",
      "| North|2010-10-31|\n",
      "+------+----------+\n",
      "only showing top 5 rows\n",
      "\n"
     ]
    }
   ],
   "source": [
    "#When we want to work on a column of a dataset.\n",
    "df.select(\"Region\",\"Date\").show(5)"
   ]
  },
  {
   "cell_type": "code",
   "execution_count": 12,
   "metadata": {},
   "outputs": [
    {
     "data": {
      "text/plain": [
       "4"
      ]
     },
     "execution_count": 12,
     "metadata": {},
     "output_type": "execute_result"
    }
   ],
   "source": [
    "#How to find the number of distinct region in dataset\n",
    "df.select('Region').distinct().count()\n"
   ]
  },
  {
   "cell_type": "code",
   "execution_count": null,
   "metadata": {},
   "outputs": [],
   "source": []
  }
 ],
 "metadata": {
  "kernelspec": {
   "display_name": "Python 3",
   "language": "python",
   "name": "python3"
  },
  "language_info": {
   "codemirror_mode": {
    "name": "ipython",
    "version": 3
   },
   "file_extension": ".py",
   "mimetype": "text/x-python",
   "name": "python",
   "nbconvert_exporter": "python",
   "pygments_lexer": "ipython3",
   "version": "3.7.1"
  }
 },
 "nbformat": 4,
 "nbformat_minor": 2
}
